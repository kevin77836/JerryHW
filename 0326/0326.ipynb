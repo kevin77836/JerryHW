{
 "cells": [
  {
   "cell_type": "code",
   "execution_count": 24,
   "metadata": {},
   "outputs": [
    {
     "name": "stdout",
     "output_type": "stream",
     "text": [
      "請輸入數字：1 2 3\n"
     ]
    },
    {
     "data": {
      "text/plain": [
       "[101, 102, 103]"
      ]
     },
     "execution_count": 24,
     "metadata": {},
     "output_type": "execute_result"
    }
   ],
   "source": [
    "a=list(map(int, input(\"請輸入數字：\").strip().split()))\n",
    "list(map(lambda x:x+100,a))"
   ]
  },
  {
   "cell_type": "code",
   "execution_count": 1,
   "metadata": {},
   "outputs": [],
   "source": [
    "def multiply_it(func):\n",
    "    def new_function(args,kwargs):\n",
    "        result = func(args,kwargs)\n",
    "        print(\"add_ints：\",result)\n",
    "        return(\"multiply:\",args*kwargs)\n",
    "    return new_function"
   ]
  },
  {
   "cell_type": "code",
   "execution_count": 2,
   "metadata": {},
   "outputs": [
    {
     "name": "stdout",
     "output_type": "stream",
     "text": [
      "add_ints： 12\n"
     ]
    },
    {
     "data": {
      "text/plain": [
       "('multiply:', 20)"
      ]
     },
     "execution_count": 2,
     "metadata": {},
     "output_type": "execute_result"
    }
   ],
   "source": [
    "@multiply_it\n",
    "def add_ints(a,b):\n",
    "    return(a+b)\n",
    "\n",
    "add_ints(2,10)"
   ]
  },
  {
   "cell_type": "code",
   "execution_count": 26,
   "metadata": {},
   "outputs": [
    {
     "name": "stdout",
     "output_type": "stream",
     "text": [
      "請輸入整數：aa\n",
      "出錯，請重新輸入\n"
     ]
    }
   ],
   "source": [
    "num=input(\"請輸入整數：\")\n",
    "try:\n",
    "    intnum=int(num)\n",
    "    floatnum=float(num)\n",
    "    intnum==floatnum\n",
    "    print(\"正確\")\n",
    "except:\n",
    "    print(\"出錯，請重新輸入\")"
   ]
  },
  {
   "cell_type": "code",
   "execution_count": null,
   "metadata": {},
   "outputs": [],
   "source": []
  },
  {
   "cell_type": "code",
   "execution_count": null,
   "metadata": {},
   "outputs": [],
   "source": []
  }
 ],
 "metadata": {
  "kernelspec": {
   "display_name": "Python 3",
   "language": "python",
   "name": "python3"
  },
  "language_info": {
   "codemirror_mode": {
    "name": "ipython",
    "version": 3
   },
   "file_extension": ".py",
   "mimetype": "text/x-python",
   "name": "python",
   "nbconvert_exporter": "python",
   "pygments_lexer": "ipython3",
   "version": "3.6.4"
  }
 },
 "nbformat": 4,
 "nbformat_minor": 2
}
